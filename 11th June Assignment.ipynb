{
 "cells": [
  {
   "cell_type": "markdown",
   "id": "e68434ed",
   "metadata": {},
   "source": [
    "1. What is a lambda function in Python, and how does it differ from a regular function?\n",
    "- Lambda functions are small, anonymous functions defined with the lambda keyword.\n",
    "- They can be used whenever function arguments are necessary. Unlike normal functions, which are defined with the def keyword, they cannot have more than one line.\n"
   ]
  },
  {
   "cell_type": "markdown",
   "id": "373f5502",
   "metadata": {},
   "source": [
    "2. Can a lambda function in Python have multiple arguments? If yes, how can you define and use\n",
    "them?\n",
    "- They can take any number of arguments but can only have one expression."
   ]
  },
  {
   "cell_type": "code",
   "execution_count": 1,
   "id": "4eb97d74",
   "metadata": {},
   "outputs": [
    {
     "name": "stdout",
     "output_type": "stream",
     "text": [
      "12\n"
     ]
    }
   ],
   "source": [
    "# lambda arguments: expression\n",
    "result= lambda x,y,z : x+y+z\n",
    "print(result(3,4,5))"
   ]
  },
  {
   "cell_type": "markdown",
   "id": "7d783c68",
   "metadata": {},
   "source": [
    "3. How are lambda functions typically used in Python? Provide an example use case.\n",
    "- They are typically used when you need a simple function for a short time, such as passing it as an argument to another function. "
   ]
  },
  {
   "cell_type": "code",
   "execution_count": 86,
   "id": "3af6367e",
   "metadata": {},
   "outputs": [
    {
     "name": "stdout",
     "output_type": "stream",
     "text": [
      "[1, 2, 3, 2, 2, 3, -3, 1]\n"
     ]
    }
   ],
   "source": [
    "# For example, you can use a lambda function to filter a list of numbers based on some condition\n",
    "List=[1,2,3,2,5,2,7,3,4,-3,-1]\n",
    "# condition : numbers smaller and equal to 3 \n",
    "new_List=list(filter(lambda x : x<=3,List))\n",
    "print(new_List)"
   ]
  },
  {
   "cell_type": "markdown",
   "id": "41b0bc16",
   "metadata": {},
   "source": [
    "4. What are the advantages and limitations of lambda functions compared to regular functions in\n",
    "Python?\n",
    "- The main advantage is their concise and readable syntax, which makes them ideal for simple operations. However, lambda functions can only contain a single expression and cannot include statements, making them less suitable for complex operations."
   ]
  },
  {
   "cell_type": "markdown",
   "id": "feb4faec",
   "metadata": {},
   "source": [
    "5. Are lambda functions in Python able to access variables defined outside of their own scope?\n",
    "Explain with an example.\n",
    "- Yes, lambda functions in Python can access variables defined outside of their own scope, as long as they are not modified inside the lambda function."
   ]
  },
  {
   "cell_type": "code",
   "execution_count": 90,
   "id": "5183eb6d",
   "metadata": {},
   "outputs": [
    {
     "name": "stdout",
     "output_type": "stream",
     "text": [
      "10\n"
     ]
    }
   ],
   "source": [
    "x = 5\n",
    "\n",
    "sum = lambda y : x + y\n",
    "\n",
    "print(sum(5))"
   ]
  },
  {
   "cell_type": "markdown",
   "id": "1194e469",
   "metadata": {},
   "source": [
    "6. Write a lambda function to calculate the square of a given number."
   ]
  },
  {
   "cell_type": "code",
   "execution_count": 3,
   "id": "36af259d",
   "metadata": {},
   "outputs": [
    {
     "name": "stdout",
     "output_type": "stream",
     "text": [
      "Enter number 7\n",
      "49\n"
     ]
    }
   ],
   "source": [
    "square= lambda x : x**2\n",
    "x= int(input(\"Enter number \"))\n",
    "print(square(x))"
   ]
  },
  {
   "cell_type": "markdown",
   "id": "701b0aeb",
   "metadata": {},
   "source": [
    "7. Create a lambda function to find the maximum value in a list of integers."
   ]
  },
  {
   "cell_type": "code",
   "execution_count": 49,
   "id": "cf7d9c93",
   "metadata": {},
   "outputs": [
    {
     "name": "stdout",
     "output_type": "stream",
     "text": [
      "74\n"
     ]
    }
   ],
   "source": [
    "List=[22,3,55,6,74,23,54]\n",
    "max_value= max(List,key= lambda x : x)\n",
    "print(max_value)"
   ]
  },
  {
   "cell_type": "markdown",
   "id": "9801f3ad",
   "metadata": {},
   "source": [
    "8. Implement a lambda function to filter out all the even numbers from a list of integers."
   ]
  },
  {
   "cell_type": "code",
   "execution_count": 9,
   "id": "a099fd9e",
   "metadata": {},
   "outputs": [
    {
     "name": "stdout",
     "output_type": "stream",
     "text": [
      "[2, 4, 6, 8, 10]\n"
     ]
    }
   ],
   "source": [
    "# Using bulit in function : filter()\n",
    "numbers=[2,3,4,5,6,7,8,9,10]\n",
    "even_numbers=list(filter(lambda x : x%2==0,numbers))\n",
    "print(even_numbers)"
   ]
  },
  {
   "cell_type": "markdown",
   "id": "aa6efc89",
   "metadata": {},
   "source": [
    "9. Write a lambda function to sort a list of strings in ascending order based on the length of each\n",
    "string."
   ]
  },
  {
   "cell_type": "code",
   "execution_count": 15,
   "id": "439b77eb",
   "metadata": {},
   "outputs": [
    {
     "name": "stdout",
     "output_type": "stream",
     "text": [
      "['new', 'home', 'hodal', 'palwal']\n"
     ]
    }
   ],
   "source": [
    "# Using a built in function : sorted()\n",
    "strings=[\"home\",\"new\",\"palwal\",\"hodal\"]\n",
    "\n",
    "sorted_list=sorted(strings,key= lambda x: len(x))\n",
    "print(sorted_list)"
   ]
  },
  {
   "cell_type": "markdown",
   "id": "37400f9d",
   "metadata": {},
   "source": [
    "10. Create a lambda function that takes two lists as input and returns a new list containing the\n",
    "common elements between the two lists."
   ]
  },
  {
   "cell_type": "code",
   "execution_count": 51,
   "id": "72a6a3d5",
   "metadata": {},
   "outputs": [
    {
     "name": "stdout",
     "output_type": "stream",
     "text": [
      "['tom', 'alice', 'no way']\n"
     ]
    }
   ],
   "source": [
    "list1=[\"no way\",\"jerry\",\"alice\",\"jim\",\"tom\",\"all\"]\n",
    "list2=[\"tom\",\"new\",\"alice\",\"no way\",\"ineuron\"]\n",
    "\n",
    "comman_list= list(filter(lambda x : x in list1,list2))\n",
    "print(comman_list)"
   ]
  },
  {
   "cell_type": "markdown",
   "id": "7599a654",
   "metadata": {},
   "source": [
    "11. Write a recursive function to calculate the factorial of a given positive integer."
   ]
  },
  {
   "cell_type": "code",
   "execution_count": 59,
   "id": "9a835dbf",
   "metadata": {},
   "outputs": [
    {
     "name": "stdout",
     "output_type": "stream",
     "text": [
      "40320\n"
     ]
    }
   ],
   "source": [
    "def factorial(n):\n",
    "    if n==1:\n",
    "        return 1\n",
    "    else :\n",
    "        return n*(factorial(n-1))\n",
    "\n",
    "print(factorial(8))"
   ]
  },
  {
   "cell_type": "markdown",
   "id": "9334bdfb",
   "metadata": {},
   "source": [
    "12. Implement a recursive function to compute the nth Fibonacci number."
   ]
  },
  {
   "cell_type": "code",
   "execution_count": 62,
   "id": "6ed7e8d0",
   "metadata": {},
   "outputs": [
    {
     "name": "stdout",
     "output_type": "stream",
     "text": [
      "21\n"
     ]
    }
   ],
   "source": [
    "def fibonacci(n):\n",
    "    if n<=1:\n",
    "        return n\n",
    "    else:\n",
    "        return fibonacci(n-1) + fibonacci(n-2)\n",
    "    \n",
    "result=fibonacci(8)\n",
    "print(result)"
   ]
  },
  {
   "cell_type": "markdown",
   "id": "51b39a6e",
   "metadata": {},
   "source": [
    "13. Create a recursive function to find the sum of all the elements in a given list."
   ]
  },
  {
   "cell_type": "code",
   "execution_count": 67,
   "id": "9a4cec17",
   "metadata": {},
   "outputs": [
    {
     "name": "stdout",
     "output_type": "stream",
     "text": [
      "75\n"
     ]
    }
   ],
   "source": [
    "def Sum(n):\n",
    "    if len(n) == 0:\n",
    "        return 0\n",
    "    else:\n",
    "        return n[0] + Sum(n[1:])\n",
    "\n",
    "print(Sum([1,2,3,4,5,6,7,8,9,10,20]))\n"
   ]
  },
  {
   "cell_type": "markdown",
   "id": "0af0f82d",
   "metadata": {},
   "source": [
    "14. Write a recursive function to determine whether a given string is a palindrome."
   ]
  },
  {
   "cell_type": "code",
   "execution_count": 72,
   "id": "03301c87",
   "metadata": {},
   "outputs": [
    {
     "name": "stdout",
     "output_type": "stream",
     "text": [
      "Yes is it\n",
      "No it not\n",
      "Yes is it\n"
     ]
    }
   ],
   "source": [
    "def palindrome(n):\n",
    "    if len(n) <= 1:\n",
    "        return \"Yes is it\"\n",
    "    elif n[0] != n[-1]:\n",
    "        return \"No it not\"\n",
    "    else:\n",
    "        return palindrome(n[1:-1])\n",
    "    \n",
    "print(palindrome(\"racecar\"))\n",
    "print(palindrome(\"name\"))\n",
    "print(palindrome(\"madam\"))"
   ]
  },
  {
   "cell_type": "markdown",
   "id": "d6403908",
   "metadata": {},
   "source": [
    "15. Implement a recursive function to find the greatest common divisor (GCD) of two positive integers."
   ]
  },
  {
   "cell_type": "code",
   "execution_count": 81,
   "id": "9b47c284",
   "metadata": {},
   "outputs": [
    {
     "name": "stdout",
     "output_type": "stream",
     "text": [
      "3\n",
      "5\n",
      "3\n",
      "2\n"
     ]
    }
   ],
   "source": [
    "def common_divisor(a,b):\n",
    "    if b == 0:\n",
    "        return a\n",
    "    else:\n",
    "        return common_divisor(b,a % b)\n",
    "\n",
    "print(common_divisor(12,15))\n",
    "print(common_divisor(40,5))\n",
    "print(common_divisor(33,90))\n",
    "print(common_divisor(48,94))\n",
    "    "
   ]
  }
 ],
 "metadata": {
  "kernelspec": {
   "display_name": "Python 3 (ipykernel)",
   "language": "python",
   "name": "python3"
  },
  "language_info": {
   "codemirror_mode": {
    "name": "ipython",
    "version": 3
   },
   "file_extension": ".py",
   "mimetype": "text/x-python",
   "name": "python",
   "nbconvert_exporter": "python",
   "pygments_lexer": "ipython3",
   "version": "3.11.3"
  }
 },
 "nbformat": 4,
 "nbformat_minor": 5
}
